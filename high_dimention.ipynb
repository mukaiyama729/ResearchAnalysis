{
 "cells": [
  {
   "cell_type": "code",
   "execution_count": 14,
   "metadata": {},
   "outputs": [],
   "source": [
    "import numpy as np\n",
    "import pickle\n",
    "import pandas as pd\n"
   ]
  },
  {
   "cell_type": "code",
   "execution_count": 15,
   "metadata": {},
   "outputs": [],
   "source": [
    "array = np.load('data/ticadata10Feb2023_1.npy', allow_pickle=True)"
   ]
  },
  {
   "cell_type": "code",
   "execution_count": 16,
   "metadata": {},
   "outputs": [
    {
     "data": {
      "text/plain": [
       "201"
      ]
     },
     "execution_count": 16,
     "metadata": {},
     "output_type": "execute_result"
    }
   ],
   "source": [
    "len(array[2739])"
   ]
  },
  {
   "cell_type": "code",
   "execution_count": null,
   "metadata": {},
   "outputs": [],
   "source": []
  },
  {
   "cell_type": "code",
   "execution_count": 17,
   "metadata": {
    "scrolled": true
   },
   "outputs": [],
   "source": [
    "c = np.concatenate(list(array))\n"
   ]
  },
  {
   "cell_type": "code",
   "execution_count": 18,
   "metadata": {
    "scrolled": true
   },
   "outputs": [
    {
     "data": {
      "text/html": [
       "<div>\n",
       "<style scoped>\n",
       "    .dataframe tbody tr th:only-of-type {\n",
       "        vertical-align: middle;\n",
       "    }\n",
       "\n",
       "    .dataframe tbody tr th {\n",
       "        vertical-align: top;\n",
       "    }\n",
       "\n",
       "    .dataframe thead th {\n",
       "        text-align: right;\n",
       "    }\n",
       "</style>\n",
       "<table border=\"1\" class=\"dataframe\">\n",
       "  <thead>\n",
       "    <tr style=\"text-align: right;\">\n",
       "      <th></th>\n",
       "      <th>0</th>\n",
       "      <th>1</th>\n",
       "      <th>2</th>\n",
       "      <th>3</th>\n",
       "      <th>4</th>\n",
       "      <th>5</th>\n",
       "      <th>6</th>\n",
       "      <th>7</th>\n",
       "      <th>8</th>\n",
       "      <th>9</th>\n",
       "      <th>...</th>\n",
       "      <th>20</th>\n",
       "      <th>21</th>\n",
       "      <th>22</th>\n",
       "      <th>23</th>\n",
       "      <th>24</th>\n",
       "      <th>25</th>\n",
       "      <th>26</th>\n",
       "      <th>27</th>\n",
       "      <th>28</th>\n",
       "      <th>29</th>\n",
       "    </tr>\n",
       "  </thead>\n",
       "  <tbody>\n",
       "    <tr>\n",
       "      <th>0</th>\n",
       "      <td>5.752661</td>\n",
       "      <td>1.125520</td>\n",
       "      <td>0.527211</td>\n",
       "      <td>2.683772</td>\n",
       "      <td>-0.630886</td>\n",
       "      <td>0.827001</td>\n",
       "      <td>0.020696</td>\n",
       "      <td>0.213640</td>\n",
       "      <td>0.227353</td>\n",
       "      <td>3.036960</td>\n",
       "      <td>...</td>\n",
       "      <td>-0.820263</td>\n",
       "      <td>-0.207301</td>\n",
       "      <td>0.431468</td>\n",
       "      <td>0.545941</td>\n",
       "      <td>-0.372418</td>\n",
       "      <td>0.212816</td>\n",
       "      <td>1.763624</td>\n",
       "      <td>-0.934084</td>\n",
       "      <td>-2.179318</td>\n",
       "      <td>0.943960</td>\n",
       "    </tr>\n",
       "    <tr>\n",
       "      <th>1</th>\n",
       "      <td>5.717692</td>\n",
       "      <td>1.100728</td>\n",
       "      <td>0.506147</td>\n",
       "      <td>2.672708</td>\n",
       "      <td>-0.665965</td>\n",
       "      <td>0.772563</td>\n",
       "      <td>-0.020458</td>\n",
       "      <td>0.315335</td>\n",
       "      <td>0.182781</td>\n",
       "      <td>2.984053</td>\n",
       "      <td>...</td>\n",
       "      <td>-0.901444</td>\n",
       "      <td>-0.177254</td>\n",
       "      <td>0.326934</td>\n",
       "      <td>-0.023183</td>\n",
       "      <td>-0.587851</td>\n",
       "      <td>0.210334</td>\n",
       "      <td>1.771687</td>\n",
       "      <td>-0.614536</td>\n",
       "      <td>-2.479958</td>\n",
       "      <td>1.017469</td>\n",
       "    </tr>\n",
       "    <tr>\n",
       "      <th>2</th>\n",
       "      <td>5.705788</td>\n",
       "      <td>1.089679</td>\n",
       "      <td>0.513431</td>\n",
       "      <td>2.696820</td>\n",
       "      <td>-0.702518</td>\n",
       "      <td>0.812125</td>\n",
       "      <td>-0.055487</td>\n",
       "      <td>0.259738</td>\n",
       "      <td>0.292574</td>\n",
       "      <td>3.042486</td>\n",
       "      <td>...</td>\n",
       "      <td>-0.824809</td>\n",
       "      <td>-0.411787</td>\n",
       "      <td>0.307181</td>\n",
       "      <td>0.112689</td>\n",
       "      <td>-0.300002</td>\n",
       "      <td>0.328467</td>\n",
       "      <td>1.941248</td>\n",
       "      <td>-0.267904</td>\n",
       "      <td>-2.326817</td>\n",
       "      <td>0.445509</td>\n",
       "    </tr>\n",
       "    <tr>\n",
       "      <th>3</th>\n",
       "      <td>5.699839</td>\n",
       "      <td>1.070145</td>\n",
       "      <td>0.493944</td>\n",
       "      <td>2.684575</td>\n",
       "      <td>-0.713839</td>\n",
       "      <td>0.716504</td>\n",
       "      <td>-0.091076</td>\n",
       "      <td>0.240467</td>\n",
       "      <td>0.190286</td>\n",
       "      <td>3.084793</td>\n",
       "      <td>...</td>\n",
       "      <td>-0.886329</td>\n",
       "      <td>-0.436837</td>\n",
       "      <td>0.454794</td>\n",
       "      <td>-0.032672</td>\n",
       "      <td>-0.279429</td>\n",
       "      <td>0.168249</td>\n",
       "      <td>1.983462</td>\n",
       "      <td>-0.516242</td>\n",
       "      <td>-2.192737</td>\n",
       "      <td>0.498284</td>\n",
       "    </tr>\n",
       "    <tr>\n",
       "      <th>4</th>\n",
       "      <td>5.676951</td>\n",
       "      <td>1.073189</td>\n",
       "      <td>0.497957</td>\n",
       "      <td>2.738045</td>\n",
       "      <td>-0.679867</td>\n",
       "      <td>0.697020</td>\n",
       "      <td>-0.084087</td>\n",
       "      <td>0.240425</td>\n",
       "      <td>0.234407</td>\n",
       "      <td>3.065686</td>\n",
       "      <td>...</td>\n",
       "      <td>-0.878595</td>\n",
       "      <td>-0.554309</td>\n",
       "      <td>0.684932</td>\n",
       "      <td>-0.047388</td>\n",
       "      <td>-0.294013</td>\n",
       "      <td>0.188721</td>\n",
       "      <td>1.973052</td>\n",
       "      <td>-0.868121</td>\n",
       "      <td>-2.044393</td>\n",
       "      <td>0.538173</td>\n",
       "    </tr>\n",
       "    <tr>\n",
       "      <th>...</th>\n",
       "      <td>...</td>\n",
       "      <td>...</td>\n",
       "      <td>...</td>\n",
       "      <td>...</td>\n",
       "      <td>...</td>\n",
       "      <td>...</td>\n",
       "      <td>...</td>\n",
       "      <td>...</td>\n",
       "      <td>...</td>\n",
       "      <td>...</td>\n",
       "      <td>...</td>\n",
       "      <td>...</td>\n",
       "      <td>...</td>\n",
       "      <td>...</td>\n",
       "      <td>...</td>\n",
       "      <td>...</td>\n",
       "      <td>...</td>\n",
       "      <td>...</td>\n",
       "      <td>...</td>\n",
       "      <td>...</td>\n",
       "      <td>...</td>\n",
       "    </tr>\n",
       "    <tr>\n",
       "      <th>11889686</th>\n",
       "      <td>-0.537618</td>\n",
       "      <td>0.187675</td>\n",
       "      <td>1.501885</td>\n",
       "      <td>-2.161262</td>\n",
       "      <td>-0.204788</td>\n",
       "      <td>-2.293959</td>\n",
       "      <td>-0.592428</td>\n",
       "      <td>0.259629</td>\n",
       "      <td>-0.200843</td>\n",
       "      <td>0.660603</td>\n",
       "      <td>...</td>\n",
       "      <td>-0.296387</td>\n",
       "      <td>-1.134447</td>\n",
       "      <td>0.681956</td>\n",
       "      <td>-0.681428</td>\n",
       "      <td>-0.871018</td>\n",
       "      <td>1.315825</td>\n",
       "      <td>0.670908</td>\n",
       "      <td>0.085016</td>\n",
       "      <td>-2.053872</td>\n",
       "      <td>-0.085502</td>\n",
       "    </tr>\n",
       "    <tr>\n",
       "      <th>11889687</th>\n",
       "      <td>-0.571600</td>\n",
       "      <td>0.199055</td>\n",
       "      <td>1.472165</td>\n",
       "      <td>-2.099394</td>\n",
       "      <td>-0.240114</td>\n",
       "      <td>-2.355327</td>\n",
       "      <td>-0.611140</td>\n",
       "      <td>0.101443</td>\n",
       "      <td>-0.270992</td>\n",
       "      <td>0.668382</td>\n",
       "      <td>...</td>\n",
       "      <td>-0.009195</td>\n",
       "      <td>-0.748783</td>\n",
       "      <td>0.776037</td>\n",
       "      <td>-0.577113</td>\n",
       "      <td>-0.948854</td>\n",
       "      <td>1.213963</td>\n",
       "      <td>0.493685</td>\n",
       "      <td>0.321465</td>\n",
       "      <td>-2.341697</td>\n",
       "      <td>0.308207</td>\n",
       "    </tr>\n",
       "    <tr>\n",
       "      <th>11889688</th>\n",
       "      <td>-0.568940</td>\n",
       "      <td>0.170634</td>\n",
       "      <td>1.485020</td>\n",
       "      <td>-2.064178</td>\n",
       "      <td>-0.226220</td>\n",
       "      <td>-2.387212</td>\n",
       "      <td>-0.551323</td>\n",
       "      <td>0.137640</td>\n",
       "      <td>-0.258159</td>\n",
       "      <td>0.596748</td>\n",
       "      <td>...</td>\n",
       "      <td>-0.038800</td>\n",
       "      <td>-1.121493</td>\n",
       "      <td>0.535724</td>\n",
       "      <td>-0.710360</td>\n",
       "      <td>-0.775102</td>\n",
       "      <td>0.967744</td>\n",
       "      <td>0.685564</td>\n",
       "      <td>0.505555</td>\n",
       "      <td>-2.157593</td>\n",
       "      <td>0.290413</td>\n",
       "    </tr>\n",
       "    <tr>\n",
       "      <th>11889689</th>\n",
       "      <td>-0.532387</td>\n",
       "      <td>0.186649</td>\n",
       "      <td>1.506791</td>\n",
       "      <td>-2.062247</td>\n",
       "      <td>-0.235630</td>\n",
       "      <td>-2.357867</td>\n",
       "      <td>-0.631138</td>\n",
       "      <td>0.095221</td>\n",
       "      <td>-0.269202</td>\n",
       "      <td>0.442223</td>\n",
       "      <td>...</td>\n",
       "      <td>-0.061141</td>\n",
       "      <td>-0.990132</td>\n",
       "      <td>0.697476</td>\n",
       "      <td>-0.683160</td>\n",
       "      <td>-1.145122</td>\n",
       "      <td>1.014371</td>\n",
       "      <td>0.798813</td>\n",
       "      <td>0.005301</td>\n",
       "      <td>-2.436479</td>\n",
       "      <td>0.030742</td>\n",
       "    </tr>\n",
       "    <tr>\n",
       "      <th>11889690</th>\n",
       "      <td>-0.578932</td>\n",
       "      <td>0.163644</td>\n",
       "      <td>1.495565</td>\n",
       "      <td>-2.081315</td>\n",
       "      <td>-0.196521</td>\n",
       "      <td>-2.336939</td>\n",
       "      <td>-0.612108</td>\n",
       "      <td>0.018774</td>\n",
       "      <td>-0.326198</td>\n",
       "      <td>0.599526</td>\n",
       "      <td>...</td>\n",
       "      <td>-0.522469</td>\n",
       "      <td>-1.244815</td>\n",
       "      <td>0.676288</td>\n",
       "      <td>-0.481024</td>\n",
       "      <td>-0.920658</td>\n",
       "      <td>1.133156</td>\n",
       "      <td>0.585599</td>\n",
       "      <td>0.558500</td>\n",
       "      <td>-2.342485</td>\n",
       "      <td>-0.150542</td>\n",
       "    </tr>\n",
       "  </tbody>\n",
       "</table>\n",
       "<p>11889691 rows × 30 columns</p>\n",
       "</div>"
      ],
      "text/plain": [
       "                0         1         2         3         4         5   \\\n",
       "0         5.752661  1.125520  0.527211  2.683772 -0.630886  0.827001   \n",
       "1         5.717692  1.100728  0.506147  2.672708 -0.665965  0.772563   \n",
       "2         5.705788  1.089679  0.513431  2.696820 -0.702518  0.812125   \n",
       "3         5.699839  1.070145  0.493944  2.684575 -0.713839  0.716504   \n",
       "4         5.676951  1.073189  0.497957  2.738045 -0.679867  0.697020   \n",
       "...            ...       ...       ...       ...       ...       ...   \n",
       "11889686 -0.537618  0.187675  1.501885 -2.161262 -0.204788 -2.293959   \n",
       "11889687 -0.571600  0.199055  1.472165 -2.099394 -0.240114 -2.355327   \n",
       "11889688 -0.568940  0.170634  1.485020 -2.064178 -0.226220 -2.387212   \n",
       "11889689 -0.532387  0.186649  1.506791 -2.062247 -0.235630 -2.357867   \n",
       "11889690 -0.578932  0.163644  1.495565 -2.081315 -0.196521 -2.336939   \n",
       "\n",
       "                6         7         8         9   ...        20        21  \\\n",
       "0         0.020696  0.213640  0.227353  3.036960  ... -0.820263 -0.207301   \n",
       "1        -0.020458  0.315335  0.182781  2.984053  ... -0.901444 -0.177254   \n",
       "2        -0.055487  0.259738  0.292574  3.042486  ... -0.824809 -0.411787   \n",
       "3        -0.091076  0.240467  0.190286  3.084793  ... -0.886329 -0.436837   \n",
       "4        -0.084087  0.240425  0.234407  3.065686  ... -0.878595 -0.554309   \n",
       "...            ...       ...       ...       ...  ...       ...       ...   \n",
       "11889686 -0.592428  0.259629 -0.200843  0.660603  ... -0.296387 -1.134447   \n",
       "11889687 -0.611140  0.101443 -0.270992  0.668382  ... -0.009195 -0.748783   \n",
       "11889688 -0.551323  0.137640 -0.258159  0.596748  ... -0.038800 -1.121493   \n",
       "11889689 -0.631138  0.095221 -0.269202  0.442223  ... -0.061141 -0.990132   \n",
       "11889690 -0.612108  0.018774 -0.326198  0.599526  ... -0.522469 -1.244815   \n",
       "\n",
       "                22        23        24        25        26        27  \\\n",
       "0         0.431468  0.545941 -0.372418  0.212816  1.763624 -0.934084   \n",
       "1         0.326934 -0.023183 -0.587851  0.210334  1.771687 -0.614536   \n",
       "2         0.307181  0.112689 -0.300002  0.328467  1.941248 -0.267904   \n",
       "3         0.454794 -0.032672 -0.279429  0.168249  1.983462 -0.516242   \n",
       "4         0.684932 -0.047388 -0.294013  0.188721  1.973052 -0.868121   \n",
       "...            ...       ...       ...       ...       ...       ...   \n",
       "11889686  0.681956 -0.681428 -0.871018  1.315825  0.670908  0.085016   \n",
       "11889687  0.776037 -0.577113 -0.948854  1.213963  0.493685  0.321465   \n",
       "11889688  0.535724 -0.710360 -0.775102  0.967744  0.685564  0.505555   \n",
       "11889689  0.697476 -0.683160 -1.145122  1.014371  0.798813  0.005301   \n",
       "11889690  0.676288 -0.481024 -0.920658  1.133156  0.585599  0.558500   \n",
       "\n",
       "                28        29  \n",
       "0        -2.179318  0.943960  \n",
       "1        -2.479958  1.017469  \n",
       "2        -2.326817  0.445509  \n",
       "3        -2.192737  0.498284  \n",
       "4        -2.044393  0.538173  \n",
       "...            ...       ...  \n",
       "11889686 -2.053872 -0.085502  \n",
       "11889687 -2.341697  0.308207  \n",
       "11889688 -2.157593  0.290413  \n",
       "11889689 -2.436479  0.030742  \n",
       "11889690 -2.342485 -0.150542  \n",
       "\n",
       "[11889691 rows x 30 columns]"
      ]
     },
     "execution_count": 18,
     "metadata": {},
     "output_type": "execute_result"
    }
   ],
   "source": [
    "pd.DataFrame(c, colums)"
   ]
  },
  {
   "cell_type": "code",
   "execution_count": 84,
   "metadata": {},
   "outputs": [],
   "source": [
    "from scripts.analysis import Analyzer"
   ]
  },
  {
   "cell_type": "code",
   "execution_count": 74,
   "metadata": {},
   "outputs": [],
   "source": [
    "analysis = Analyzer()\n",
    "analysis.load_array(c)"
   ]
  },
  {
   "cell_type": "code",
   "execution_count": 75,
   "metadata": {
    "scrolled": true
   },
   "outputs": [
    {
     "ename": "QhullError",
     "evalue": "QH6235 qhull error (qh_memalloc): negative request size (-769147384).  Did int overflow due to high-D?\n\nWhile executing:  | qhull d Qx Qc Qt Q12 Qbb Qz\nOptions selected for Qhull 2019.1.r 2019/06/21:\n  run-id 1345173102  delaunay  Qxact-merge  Qcoplanar-keep  Qtriangulate\n  Q12-allow-wide  Qbbound-last  Qz-infinity-point  _zero-centrum\n  Qinterior-keep  Q3-no-merge-vertices-dim-high  Pgood  _max-width 0.59\n  Error-roundoff 1.4e-14  _one-merge 8.5e-13  Visible-distance 8.1e-14\n  U-max-coplanar 8.1e-14  Width-outside 1.6e-13  _wide-facet 4.9e-13\n  _maxoutside 8.7e-13\nLast point added to hull was p31540.\n\nAt error exit:\n\nDelaunay triangulation by the convex hull of 40201 points in 31-d:\n\n  Number of input sites and at-infinity: 42\n  Total number of nearly incident points: 40159\n  Number of Delaunay regions: 8841300\n\nStatistics for:  | qhull d Qx Qc Qt Q12 Qbb Qz\n\n  Number of points processed: 41\n  Number of hyperplanes created: 5680952\n  Number of facets in hull: 9560558\n  Number of distance tests for qhull: 6587719\n\n",
     "output_type": "error",
     "traceback": [
      "\u001b[0;31m---------------------------------------------------------------------------\u001b[0m",
      "\u001b[0;31mQhullError\u001b[0m                                Traceback (most recent call last)",
      "Cell \u001b[0;32mIn [75], line 1\u001b[0m\n\u001b[0;32m----> 1\u001b[0m \u001b[43manalysis\u001b[49m\u001b[38;5;241;43m.\u001b[39;49m\u001b[43mdelaunay_cal\u001b[49m\u001b[43m(\u001b[49m\u001b[43m)\u001b[49m\n",
      "File \u001b[0;32m~/research/kitao/Delaunay/scripts/tessellation.py:67\u001b[0m, in \u001b[0;36mTessellation.delaunay_cal\u001b[0;34m(self, random)\u001b[0m\n\u001b[1;32m     66\u001b[0m \u001b[38;5;28;01mdef\u001b[39;00m \u001b[38;5;21mdelaunay_cal\u001b[39m(\u001b[38;5;28mself\u001b[39m, random\u001b[38;5;241m=\u001b[39m\u001b[38;5;28;01mFalse\u001b[39;00m):\n\u001b[0;32m---> 67\u001b[0m     model \u001b[38;5;241m=\u001b[39m \u001b[43mDelaunayModel\u001b[49m\u001b[43m(\u001b[49m\n\u001b[1;32m     68\u001b[0m \u001b[43m        \u001b[49m\u001b[43mPointsGenerater\u001b[49m\u001b[43m(\u001b[49m\u001b[38;5;28;43mself\u001b[39;49m\u001b[38;5;241;43m.\u001b[39;49m\u001b[43mpoints\u001b[49m\u001b[43m)\u001b[49m\u001b[38;5;241;43m.\u001b[39;49m\u001b[43mnormalization\u001b[49m\u001b[43m(\u001b[49m\u001b[43m)\u001b[49m\n\u001b[1;32m     69\u001b[0m \u001b[43m    \u001b[49m\u001b[43m)\u001b[49m\n\u001b[1;32m     70\u001b[0m     model\u001b[38;5;241m.\u001b[39mcal_volume()\n\u001b[1;32m     71\u001b[0m     \u001b[38;5;28mself\u001b[39m\u001b[38;5;241m.\u001b[39md_model \u001b[38;5;241m=\u001b[39m model\n",
      "File \u001b[0;32m~/research/kitao/Delaunay/scripts/model/models.py:87\u001b[0m, in \u001b[0;36mDelaunayModel.__init__\u001b[0;34m(self, points)\u001b[0m\n\u001b[1;32m     65\u001b[0m \u001b[38;5;28;01mdef\u001b[39;00m \u001b[38;5;21m__init__\u001b[39m(\u001b[38;5;28mself\u001b[39m, points:np\u001b[38;5;241m.\u001b[39marray):\n\u001b[1;32m     67\u001b[0m     \u001b[38;5;124;03m'''\u001b[39;00m\n\u001b[1;32m     68\u001b[0m \u001b[38;5;124;03m        #点のベクトルのリスト[[0.1,4.5,6.3],[2,4.9,7.1]...]インデックスが点の番号\u001b[39;00m\n\u001b[1;32m     69\u001b[0m \u001b[38;5;124;03m        self.points = self.dln.points\u001b[39;00m\n\u001b[0;32m   (...)\u001b[0m\n\u001b[1;32m     84\u001b[0m \u001b[38;5;124;03m        self.name = 'Delaunay'\u001b[39;00m\n\u001b[1;32m     85\u001b[0m \u001b[38;5;124;03m    '''\u001b[39;00m\n\u001b[0;32m---> 87\u001b[0m     \u001b[38;5;28mself\u001b[39m\u001b[38;5;241m.\u001b[39mdln \u001b[38;5;241m=\u001b[39m \u001b[43mDelaunay\u001b[49m\u001b[43m(\u001b[49m\u001b[43mpoints\u001b[49m\u001b[43m)\u001b[49m\n\u001b[1;32m     88\u001b[0m     \u001b[38;5;28mself\u001b[39m\u001b[38;5;241m.\u001b[39mpoints \u001b[38;5;241m=\u001b[39m \u001b[38;5;28mself\u001b[39m\u001b[38;5;241m.\u001b[39mdln\u001b[38;5;241m.\u001b[39mpoints\n\u001b[1;32m     89\u001b[0m     \u001b[38;5;28mself\u001b[39m\u001b[38;5;241m.\u001b[39mvertices \u001b[38;5;241m=\u001b[39m \u001b[38;5;28mself\u001b[39m\u001b[38;5;241m.\u001b[39mdln\u001b[38;5;241m.\u001b[39mvertices\n",
      "File \u001b[0;32m_qhull.pyx:1841\u001b[0m, in \u001b[0;36mscipy.spatial._qhull.Delaunay.__init__\u001b[0;34m()\u001b[0m\n",
      "File \u001b[0;32m_qhull.pyx:357\u001b[0m, in \u001b[0;36mscipy.spatial._qhull._Qhull.__init__\u001b[0;34m()\u001b[0m\n",
      "\u001b[0;31mQhullError\u001b[0m: QH6235 qhull error (qh_memalloc): negative request size (-769147384).  Did int overflow due to high-D?\n\nWhile executing:  | qhull d Qx Qc Qt Q12 Qbb Qz\nOptions selected for Qhull 2019.1.r 2019/06/21:\n  run-id 1345173102  delaunay  Qxact-merge  Qcoplanar-keep  Qtriangulate\n  Q12-allow-wide  Qbbound-last  Qz-infinity-point  _zero-centrum\n  Qinterior-keep  Q3-no-merge-vertices-dim-high  Pgood  _max-width 0.59\n  Error-roundoff 1.4e-14  _one-merge 8.5e-13  Visible-distance 8.1e-14\n  U-max-coplanar 8.1e-14  Width-outside 1.6e-13  _wide-facet 4.9e-13\n  _maxoutside 8.7e-13\nLast point added to hull was p31540.\n\nAt error exit:\n\nDelaunay triangulation by the convex hull of 40201 points in 31-d:\n\n  Number of input sites and at-infinity: 42\n  Total number of nearly incident points: 40159\n  Number of Delaunay regions: 8841300\n\nStatistics for:  | qhull d Qx Qc Qt Q12 Qbb Qz\n\n  Number of points processed: 41\n  Number of hyperplanes created: 5680952\n  Number of facets in hull: 9560558\n  Number of distance tests for qhull: 6587719\n\n"
     ]
    }
   ],
   "source": [
    "analysis.delaunay_cal()"
   ]
  },
  {
   "cell_type": "code",
   "execution_count": 86,
   "metadata": {},
   "outputs": [
    {
     "name": "stdout",
     "output_type": "stream",
     "text": [
      "Requirement already satisfied: update in /Users/mukaiyama/GameTrade/work/charge_back_predict/env/lib/python3.10/site-packages (0.0.1)\n",
      "Requirement already satisfied: scipy in /Users/mukaiyama/GameTrade/work/charge_back_predict/env/lib/python3.10/site-packages (1.8.1)\n",
      "Requirement already satisfied: style==1.1.0 in /Users/mukaiyama/GameTrade/work/charge_back_predict/env/lib/python3.10/site-packages (from update) (1.1.0)\n",
      "Requirement already satisfied: numpy<1.25.0,>=1.17.3 in /Users/mukaiyama/GameTrade/work/charge_back_predict/env/lib/python3.10/site-packages (from scipy) (1.23.4)\n",
      "Note: you may need to restart the kernel to use updated packages.\n"
     ]
    }
   ],
   "source": [
    "pip install update scipy"
   ]
  },
  {
   "cell_type": "code",
   "execution_count": 5,
   "metadata": {},
   "outputs": [
    {
     "ename": "QhullError",
     "evalue": "QH6235 qhull error (qh_memalloc): negative request size (-645630424).  Did int overflow due to high-D?\n\nWhile executing:  | qhull d Q12 Qx Qbb Qc Qz Qt\nOptions selected for Qhull 2019.1.r 2019/06/21:\n  run-id 1444519279  delaunay  Q12-allow-wide  Qxact-merge  Qbbound-last\n  Qcoplanar-keep  Qz-infinity-point  Qtriangulate  _zero-centrum\n  Qinterior-keep  Q3-no-merge-vertices-dim-high  Pgood  _max-width 4.9\n  Error-roundoff 2.4e-13  _one-merge 1.5e-11  Visible-distance 1.4e-12\n  U-max-coplanar 1.4e-12  Width-outside 2.9e-12  _wide-facet 8.6e-12\n  _maxoutside 1.5e-11\nLast point added to hull was p1509.\n\nAt error exit:\n\nDelaunay triangulation by the convex hull of 10051 points in 31-d:\n\n  Number of input sites and at-infinity: 42\n  Total number of nearly incident points: 10009\n  Number of Delaunay regions: 8799189\n\nStatistics for:  | qhull d Q12 Qx Qbb Qc Qz Qt\n\n  Number of points processed: 41\n  Number of hyperplanes created: 5757682\n  Number of facets in hull: 10173540\n  Number of distance tests for qhull: 6151317\n\n",
     "output_type": "error",
     "traceback": [
      "\u001b[0;31m---------------------------------------------------------------------------\u001b[0m",
      "\u001b[0;31mQhullError\u001b[0m                                Traceback (most recent call last)",
      "Cell \u001b[0;32mIn [5], line 3\u001b[0m\n\u001b[1;32m      1\u001b[0m \u001b[38;5;28;01mfrom\u001b[39;00m \u001b[38;5;21;01mscipy\u001b[39;00m\u001b[38;5;21;01m.\u001b[39;00m\u001b[38;5;21;01mspatial\u001b[39;00m \u001b[38;5;28;01mimport\u001b[39;00m Voronoi, Delaunay, ConvexHull\n\u001b[0;32m----> 3\u001b[0m d \u001b[38;5;241m=\u001b[39m \u001b[43mDelaunay\u001b[49m\u001b[43m(\u001b[49m\u001b[43mc\u001b[49m\u001b[43m)\u001b[49m\n",
      "File \u001b[0;32m_qhull.pyx:1841\u001b[0m, in \u001b[0;36mscipy.spatial._qhull.Delaunay.__init__\u001b[0;34m()\u001b[0m\n",
      "File \u001b[0;32m_qhull.pyx:357\u001b[0m, in \u001b[0;36mscipy.spatial._qhull._Qhull.__init__\u001b[0;34m()\u001b[0m\n",
      "\u001b[0;31mQhullError\u001b[0m: QH6235 qhull error (qh_memalloc): negative request size (-645630424).  Did int overflow due to high-D?\n\nWhile executing:  | qhull d Q12 Qx Qbb Qc Qz Qt\nOptions selected for Qhull 2019.1.r 2019/06/21:\n  run-id 1444519279  delaunay  Q12-allow-wide  Qxact-merge  Qbbound-last\n  Qcoplanar-keep  Qz-infinity-point  Qtriangulate  _zero-centrum\n  Qinterior-keep  Q3-no-merge-vertices-dim-high  Pgood  _max-width 4.9\n  Error-roundoff 2.4e-13  _one-merge 1.5e-11  Visible-distance 1.4e-12\n  U-max-coplanar 1.4e-12  Width-outside 2.9e-12  _wide-facet 8.6e-12\n  _maxoutside 1.5e-11\nLast point added to hull was p1509.\n\nAt error exit:\n\nDelaunay triangulation by the convex hull of 10051 points in 31-d:\n\n  Number of input sites and at-infinity: 42\n  Total number of nearly incident points: 10009\n  Number of Delaunay regions: 8799189\n\nStatistics for:  | qhull d Q12 Qx Qbb Qc Qz Qt\n\n  Number of points processed: 41\n  Number of hyperplanes created: 5757682\n  Number of facets in hull: 10173540\n  Number of distance tests for qhull: 6151317\n\n"
     ]
    }
   ],
   "source": [
    "from scipy.spatial import Voronoi, Delaunay, ConvexHull\n",
    "\n",
    "d = Delaunay(c)\n"
   ]
  },
  {
   "cell_type": "code",
   "execution_count": 24,
   "metadata": {},
   "outputs": [],
   "source": [
    "from scipy.spatial import Delaunay \n",
    "array = np.array([[1,2,3,4,5,,6,7,8,9,6,4,2,12,1,2,3,4,,5,5],[1,2,3,4,5,,6,7,8,9,6,4,2,12,1,2,3,4,,5,5]])"
   ]
  },
  {
   "cell_type": "code",
   "execution_count": 102,
   "metadata": {},
   "outputs": [],
   "source": [
    "class B:\n",
    "    \n",
    "    def __init__(self, b):\n",
    "        self.b = b"
   ]
  },
  {
   "cell_type": "code",
   "execution_count": 107,
   "metadata": {},
   "outputs": [],
   "source": [
    "class A(B):\n",
    "    \n",
    "    def __init__(self, a):\n",
    "        self.a = a\n",
    "    \n",
    "    def aa(self, b):\n",
    "        super().__init__(b)"
   ]
  },
  {
   "cell_type": "code",
   "execution_count": 108,
   "metadata": {},
   "outputs": [
    {
     "data": {
      "text/plain": [
       "'b'"
      ]
     },
     "execution_count": 108,
     "metadata": {},
     "output_type": "execute_result"
    }
   ],
   "source": [
    "i = A(2)\n",
    "i.aa('b')\n",
    "i.b"
   ]
  },
  {
   "cell_type": "code",
   "execution_count": 53,
   "metadata": {},
   "outputs": [
    {
     "data": {
      "text/plain": [
       "array([[1, 2],\n",
       "       [3, 1]])"
      ]
     },
     "execution_count": 53,
     "metadata": {},
     "output_type": "execute_result"
    }
   ],
   "source": [
    "np.array([[1,2],[3,1]])"
   ]
  },
  {
   "cell_type": "code",
   "execution_count": 56,
   "metadata": {},
   "outputs": [
    {
     "name": "stdout",
     "output_type": "stream",
     "text": [
      "[[1 1 1]\n",
      " [1 1 1]]\n",
      "[[2 2 2]\n",
      " [2 2 2]]\n",
      "[[2 2 2]\n",
      " [2 2 2]]\n",
      "[[1 1 1]\n",
      " [1 1 1]\n",
      " [2 2 2]\n",
      " [2 2 2]\n",
      " [2 2 2]\n",
      " [2 2 2]]\n"
     ]
    }
   ],
   "source": [
    "import numpy as np\n",
    "\n",
    "a1 = np.ones((2, 3), int)\n",
    "print(a1)\n",
    "# [[1 1 1]\n",
    "#  [1 1 1]]\n",
    "\n",
    "a2 = np.full((2, 3), 2)\n",
    "print(a2)\n",
    "a3 = np.full((2, 3), 2)\n",
    "print(a3)\n",
    "print(np.concatenate([a1, a2, a3]))"
   ]
  },
  {
   "cell_type": "code",
   "execution_count": null,
   "metadata": {},
   "outputs": [],
   "source": [
    "a"
   ]
  },
  {
   "cell_type": "code",
   "execution_count": 35,
   "metadata": {},
   "outputs": [
    {
     "name": "stdout",
     "output_type": "stream",
     "text": [
      "sample\n",
      "8\n"
     ]
    }
   ],
   "source": [
    "class A:\n",
    "    \n",
    "    sample = 'sample'\n",
    "    \n",
    "    def __init__(self, y):\n",
    "        self.y = y\n",
    "        print(self.sample)\n",
    "    \n",
    "    @classmethod\n",
    "    def sa(cls, u):\n",
    "        print(u)\n",
    "g = A(1)\n",
    "g.sa(8)\n"
   ]
  },
  {
   "cell_type": "code",
   "execution_count": 32,
   "metadata": {},
   "outputs": [
    {
     "data": {
      "text/plain": [
       "'sample'"
      ]
     },
     "execution_count": 32,
     "metadata": {},
     "output_type": "execute_result"
    }
   ],
   "source": [
    "A.sample"
   ]
  },
  {
   "cell_type": "code",
   "execution_count": 1,
   "metadata": {},
   "outputs": [],
   "source": [
    "class A:\n",
    "    p = 'hhh'\n",
    "    def __init__(self, a):\n",
    "        self.a = a\n",
    "    def s(self,):\n",
    "        print('hello')\n",
    "class B(A):\n",
    "    c = 'd'\n",
    "    def t(self, u):\n",
    "        print(u)"
   ]
  },
  {
   "cell_type": "code",
   "execution_count": 2,
   "metadata": {},
   "outputs": [],
   "source": [
    "y = B('u')\n"
   ]
  },
  {
   "cell_type": "code",
   "execution_count": 4,
   "metadata": {},
   "outputs": [
    {
     "data": {
      "text/plain": [
       "'u'"
      ]
     },
     "execution_count": 4,
     "metadata": {},
     "output_type": "execute_result"
    }
   ],
   "source": [
    "y.a"
   ]
  },
  {
   "cell_type": "code",
   "execution_count": 1,
   "metadata": {},
   "outputs": [
    {
     "ename": "SyntaxError",
     "evalue": "invalid syntax (2934956197.py, line 1)",
     "output_type": "error",
     "traceback": [
      "\u001b[0;36m  Cell \u001b[0;32mIn [1], line 1\u001b[0;36m\u001b[0m\n\u001b[0;31m    pip install numpy\u001b[0m\n\u001b[0m        ^\u001b[0m\n\u001b[0;31mSyntaxError\u001b[0m\u001b[0;31m:\u001b[0m invalid syntax\n"
     ]
    }
   ],
   "source": [
    "pip install numpy\n",
    "pip install pandas\n",
    "pip install scikit-learn"
   ]
  },
  {
   "cell_type": "code",
   "execution_count": 57,
   "metadata": {},
   "outputs": [
    {
     "data": {
      "text/html": [
       "<div>\n",
       "<style scoped>\n",
       "    .dataframe tbody tr th:only-of-type {\n",
       "        vertical-align: middle;\n",
       "    }\n",
       "\n",
       "    .dataframe tbody tr th {\n",
       "        vertical-align: top;\n",
       "    }\n",
       "\n",
       "    .dataframe thead th {\n",
       "        text-align: right;\n",
       "    }\n",
       "</style>\n",
       "<table border=\"1\" class=\"dataframe\">\n",
       "  <thead>\n",
       "    <tr style=\"text-align: right;\">\n",
       "      <th></th>\n",
       "      <th>sepal length (cm)</th>\n",
       "      <th>sepal width (cm)</th>\n",
       "      <th>petal length (cm)</th>\n",
       "      <th>petal width (cm)</th>\n",
       "    </tr>\n",
       "  </thead>\n",
       "  <tbody>\n",
       "    <tr>\n",
       "      <th>0</th>\n",
       "      <td>5.1</td>\n",
       "      <td>3.5</td>\n",
       "      <td>1.4</td>\n",
       "      <td>0.2</td>\n",
       "    </tr>\n",
       "    <tr>\n",
       "      <th>1</th>\n",
       "      <td>4.9</td>\n",
       "      <td>3.0</td>\n",
       "      <td>1.4</td>\n",
       "      <td>0.2</td>\n",
       "    </tr>\n",
       "    <tr>\n",
       "      <th>2</th>\n",
       "      <td>4.7</td>\n",
       "      <td>3.2</td>\n",
       "      <td>1.3</td>\n",
       "      <td>0.2</td>\n",
       "    </tr>\n",
       "    <tr>\n",
       "      <th>3</th>\n",
       "      <td>4.6</td>\n",
       "      <td>3.1</td>\n",
       "      <td>1.5</td>\n",
       "      <td>0.2</td>\n",
       "    </tr>\n",
       "    <tr>\n",
       "      <th>4</th>\n",
       "      <td>5.0</td>\n",
       "      <td>3.6</td>\n",
       "      <td>1.4</td>\n",
       "      <td>0.2</td>\n",
       "    </tr>\n",
       "  </tbody>\n",
       "</table>\n",
       "</div>"
      ],
      "text/plain": [
       "   sepal length (cm)  sepal width (cm)  petal length (cm)  petal width (cm)\n",
       "0                5.1               3.5                1.4               0.2\n",
       "1                4.9               3.0                1.4               0.2\n",
       "2                4.7               3.2                1.3               0.2\n",
       "3                4.6               3.1                1.5               0.2\n",
       "4                5.0               3.6                1.4               0.2"
      ]
     },
     "metadata": {},
     "output_type": "display_data"
    }
   ],
   "source": [
    "import numpy as np\n",
    "import pandas as pd\n",
    "from sklearn import datasets\n",
    "\n",
    "# irisデータセットサンプル\n",
    "iris = datasets.load_iris()\n",
    "# pandas\n",
    "data_pd = pd.DataFrame(data=iris[\"data\"], columns=iris[\"feature_names\"])\n",
    "display(data_pd.head())\n",
    "# 以降ではirisの\"petal length (cm)\"カラムを利用する\n",
    "# lis\n",
    "data_list = [x[] for x in iris[\"data\"]]\n",
    "# np.array\n",
    "data_np = np.array(data_list)\n",
    "\n",
    "# x軸をGridするためのデータも生成\n",
    "x_grid = np.linspace(0, max(data_list), num=200)\n",
    "# データを正規化したヒストグラムを表示する用\n",
    "#weights = np.ones_like(data_list)/float(len(data_list))"
   ]
  },
  {
   "cell_type": "code",
   "execution_count": 58,
   "metadata": {},
   "outputs": [
    {
     "data": {
      "text/plain": [
       "[3.5,\n",
       " 3.0,\n",
       " 3.2,\n",
       " 3.1,\n",
       " 3.6,\n",
       " 3.9,\n",
       " 3.4,\n",
       " 3.4,\n",
       " 2.9,\n",
       " 3.1,\n",
       " 3.7,\n",
       " 3.4,\n",
       " 3.0,\n",
       " 3.0,\n",
       " 4.0,\n",
       " 4.4,\n",
       " 3.9,\n",
       " 3.5,\n",
       " 3.8,\n",
       " 3.8,\n",
       " 3.4,\n",
       " 3.7,\n",
       " 3.6,\n",
       " 3.3,\n",
       " 3.4,\n",
       " 3.0,\n",
       " 3.4,\n",
       " 3.5,\n",
       " 3.4,\n",
       " 3.2,\n",
       " 3.1,\n",
       " 3.4,\n",
       " 4.1,\n",
       " 4.2,\n",
       " 3.1,\n",
       " 3.2,\n",
       " 3.5,\n",
       " 3.6,\n",
       " 3.0,\n",
       " 3.4,\n",
       " 3.5,\n",
       " 2.3,\n",
       " 3.2,\n",
       " 3.5,\n",
       " 3.8,\n",
       " 3.0,\n",
       " 3.8,\n",
       " 3.2,\n",
       " 3.7,\n",
       " 3.3,\n",
       " 3.2,\n",
       " 3.2,\n",
       " 3.1,\n",
       " 2.3,\n",
       " 2.8,\n",
       " 2.8,\n",
       " 3.3,\n",
       " 2.4,\n",
       " 2.9,\n",
       " 2.7,\n",
       " 2.0,\n",
       " 3.0,\n",
       " 2.2,\n",
       " 2.9,\n",
       " 2.9,\n",
       " 3.1,\n",
       " 3.0,\n",
       " 2.7,\n",
       " 2.2,\n",
       " 2.5,\n",
       " 3.2,\n",
       " 2.8,\n",
       " 2.5,\n",
       " 2.8,\n",
       " 2.9,\n",
       " 3.0,\n",
       " 2.8,\n",
       " 3.0,\n",
       " 2.9,\n",
       " 2.6,\n",
       " 2.4,\n",
       " 2.4,\n",
       " 2.7,\n",
       " 2.7,\n",
       " 3.0,\n",
       " 3.4,\n",
       " 3.1,\n",
       " 2.3,\n",
       " 3.0,\n",
       " 2.5,\n",
       " 2.6,\n",
       " 3.0,\n",
       " 2.6,\n",
       " 2.3,\n",
       " 2.7,\n",
       " 3.0,\n",
       " 2.9,\n",
       " 2.9,\n",
       " 2.5,\n",
       " 2.8,\n",
       " 3.3,\n",
       " 2.7,\n",
       " 3.0,\n",
       " 2.9,\n",
       " 3.0,\n",
       " 3.0,\n",
       " 2.5,\n",
       " 2.9,\n",
       " 2.5,\n",
       " 3.6,\n",
       " 3.2,\n",
       " 2.7,\n",
       " 3.0,\n",
       " 2.5,\n",
       " 2.8,\n",
       " 3.2,\n",
       " 3.0,\n",
       " 3.8,\n",
       " 2.6,\n",
       " 2.2,\n",
       " 3.2,\n",
       " 2.8,\n",
       " 2.8,\n",
       " 2.7,\n",
       " 3.3,\n",
       " 3.2,\n",
       " 2.8,\n",
       " 3.0,\n",
       " 2.8,\n",
       " 3.0,\n",
       " 2.8,\n",
       " 3.8,\n",
       " 2.8,\n",
       " 2.8,\n",
       " 2.6,\n",
       " 3.0,\n",
       " 3.4,\n",
       " 3.1,\n",
       " 3.0,\n",
       " 3.1,\n",
       " 3.1,\n",
       " 3.1,\n",
       " 2.7,\n",
       " 3.2,\n",
       " 3.3,\n",
       " 3.0,\n",
       " 2.5,\n",
       " 3.0,\n",
       " 3.4,\n",
       " 3.0]"
      ]
     },
     "execution_count": 58,
     "metadata": {},
     "output_type": "execute_result"
    }
   ],
   "source": [
    "data_list"
   ]
  },
  {
   "cell_type": "code",
   "execution_count": 29,
   "metadata": {},
   "outputs": [],
   "source": [
    "import matplotlib\n",
    "import matplotlib.pyplot as plt\n",
    "plt.style.use('ggplot')"
   ]
  },
  {
   "cell_type": "code",
   "execution_count": 104,
   "metadata": {
    "scrolled": true
   },
   "outputs": [
    {
     "data": {
      "text/plain": [
       "0      0.2\n",
       "1      0.2\n",
       "2      0.2\n",
       "3      0.2\n",
       "4      0.2\n",
       "      ... \n",
       "145    2.3\n",
       "146    1.9\n",
       "147    2.0\n",
       "148    2.3\n",
       "149    1.8\n",
       "Name: petal width (cm), Length: 150, dtype: float64"
      ]
     },
     "execution_count": 104,
     "metadata": {},
     "output_type": "execute_result"
    }
   ],
   "source": [
    "data_pd[\"petal width (cm)\"][:]"
   ]
  },
  {
   "cell_type": "code",
   "execution_count": 121,
   "metadata": {
    "scrolled": false
   },
   "outputs": [
    {
     "data": {
      "image/png": "[encoded data removed]",
      "text/plain": [
       "<Figure size 1400x700 with 2 Axes>"
      ]
     },
     "metadata": {},
     "output_type": "display_data"
    }
   ],
   "source": [
    "plt.figure(figsize=(14,7))\n",
    "data_pd[\"petal width (cm)\"].plot(kind=\"hist\", bins=60, alpha=0.5)\n",
    "data_pd[\"petal width (cm)\"].plot(kind=\"kde\", secondary_y=True, alpha=1)\n",
    "data_pd[\"petal width (cm)\"][0:11].plot(kind=\"kde\", secondary_y=False, alpha=1, c='springgreen')\n",
    "data_pd[\"petal width (cm)\"][11:30].plot(kind=\"kde\", secondary_y=False, alpha=1, c='springgreen')\n",
    "data_pd[\"petal width (cm)\"][70:120].plot(kind=\"kde\", secondary_y=False, alpha=1, c='black')\n",
    "data_pd[\"petal width (cm)\"][120:300].plot(kind=\"kde\", secondary_y=False, alpha=1, c='black')\n",
    "plt.savefig('kde.jpeg')\n",
    "plt.show()"
   ]
  },
  {
   "cell_type": "code",
   "execution_count": 34,
   "metadata": {
    "scrolled": true
   },
   "outputs": [
    {
     "ename": "AttributeError",
     "evalue": "'AxesSubplot' object has no attribute 'tripcolors'",
     "output_type": "error",
     "traceback": [
      "\u001b[0;31m---------------------------------------------------------------------------\u001b[0m",
      "\u001b[0;31mAttributeError\u001b[0m                            Traceback (most recent call last)",
      "Cell \u001b[0;32mIn [34], line 18\u001b[0m\n\u001b[1;32m     16\u001b[0m     ax\u001b[38;5;241m.\u001b[39mtripcolors(triang, facecolors\u001b[38;5;241m=\u001b[39mx[:\u001b[38;5;241m3\u001b[39m\u001b[38;5;241m+\u001b[39mnum][:num])\n\u001b[1;32m     17\u001b[0m     \u001b[38;5;28;01mreturn\u001b[39;00m fig,\n\u001b[0;32m---> 18\u001b[0m ani \u001b[38;5;241m=\u001b[39m \u001b[43manimation\u001b[49m\u001b[38;5;241;43m.\u001b[39;49m\u001b[43mFuncAnimation\u001b[49m\u001b[43m(\u001b[49m\u001b[43mfig\u001b[49m\u001b[43m,\u001b[49m\u001b[43m \u001b[49m\u001b[43mupdate\u001b[49m\u001b[43m,\u001b[49m\u001b[43m \u001b[49m\u001b[38;5;241;43m10\u001b[39;49m\u001b[43m,\u001b[49m\u001b[43minterval\u001b[49m\u001b[38;5;241;43m=\u001b[39;49m\u001b[38;5;241;43m600\u001b[39;49m\u001b[43m,\u001b[49m\u001b[43m \u001b[49m\u001b[43mblit\u001b[49m\u001b[38;5;241;43m=\u001b[39;49m\u001b[38;5;28;43;01mTrue\u001b[39;49;00m\u001b[43m)\u001b[49m\n\u001b[1;32m     19\u001b[0m ani\u001b[38;5;241m.\u001b[39msave(\u001b[38;5;124m'\u001b[39m\u001b[38;5;124mtriplot_anim25.gif\u001b[39m\u001b[38;5;124m'\u001b[39m, writer\u001b[38;5;241m=\u001b[39m\u001b[38;5;124m\"\u001b[39m\u001b[38;5;124mffmpeg\u001b[39m\u001b[38;5;124m\"\u001b[39m,dpi\u001b[38;5;241m=\u001b[39m\u001b[38;5;241m100\u001b[39m)\n\u001b[1;32m     20\u001b[0m HTML(ani\u001b[38;5;241m.\u001b[39mto_html5_video())\n",
      "File \u001b[0;32m~/GameTrade/work/charge_back_predict/env/lib/python3.10/site-packages/matplotlib/animation.py:1659\u001b[0m, in \u001b[0;36mFuncAnimation.__init__\u001b[0;34m(self, fig, func, frames, init_func, fargs, save_count, cache_frame_data, **kwargs)\u001b[0m\n\u001b[1;32m   1656\u001b[0m \u001b[38;5;66;03m# Needs to be initialized so the draw functions work without checking\u001b[39;00m\n\u001b[1;32m   1657\u001b[0m \u001b[38;5;28mself\u001b[39m\u001b[38;5;241m.\u001b[39m_save_seq \u001b[38;5;241m=\u001b[39m []\n\u001b[0;32m-> 1659\u001b[0m \u001b[38;5;28;43msuper\u001b[39;49m\u001b[43m(\u001b[49m\u001b[43m)\u001b[49m\u001b[38;5;241;43m.\u001b[39;49m\u001b[38;5;21;43m__init__\u001b[39;49m\u001b[43m(\u001b[49m\u001b[43mfig\u001b[49m\u001b[43m,\u001b[49m\u001b[43m \u001b[49m\u001b[38;5;241;43m*\u001b[39;49m\u001b[38;5;241;43m*\u001b[39;49m\u001b[43mkwargs\u001b[49m\u001b[43m)\u001b[49m\n\u001b[1;32m   1661\u001b[0m \u001b[38;5;66;03m# Need to reset the saved seq, since right now it will contain data\u001b[39;00m\n\u001b[1;32m   1662\u001b[0m \u001b[38;5;66;03m# for a single frame from init, which is not what we want.\u001b[39;00m\n\u001b[1;32m   1663\u001b[0m \u001b[38;5;28mself\u001b[39m\u001b[38;5;241m.\u001b[39m_save_seq \u001b[38;5;241m=\u001b[39m []\n",
      "File \u001b[0;32m~/GameTrade/work/charge_back_predict/env/lib/python3.10/site-packages/matplotlib/animation.py:1394\u001b[0m, in \u001b[0;36mTimedAnimation.__init__\u001b[0;34m(self, fig, interval, repeat_delay, repeat, event_source, *args, **kwargs)\u001b[0m\n\u001b[1;32m   1392\u001b[0m \u001b[38;5;28;01mif\u001b[39;00m event_source \u001b[38;5;129;01mis\u001b[39;00m \u001b[38;5;28;01mNone\u001b[39;00m:\n\u001b[1;32m   1393\u001b[0m     event_source \u001b[38;5;241m=\u001b[39m fig\u001b[38;5;241m.\u001b[39mcanvas\u001b[38;5;241m.\u001b[39mnew_timer(interval\u001b[38;5;241m=\u001b[39m\u001b[38;5;28mself\u001b[39m\u001b[38;5;241m.\u001b[39m_interval)\n\u001b[0;32m-> 1394\u001b[0m \u001b[38;5;28;43msuper\u001b[39;49m\u001b[43m(\u001b[49m\u001b[43m)\u001b[49m\u001b[38;5;241;43m.\u001b[39;49m\u001b[38;5;21;43m__init__\u001b[39;49m\u001b[43m(\u001b[49m\u001b[43mfig\u001b[49m\u001b[43m,\u001b[49m\u001b[43m \u001b[49m\u001b[43mevent_source\u001b[49m\u001b[38;5;241;43m=\u001b[39;49m\u001b[43mevent_source\u001b[49m\u001b[43m,\u001b[49m\u001b[43m \u001b[49m\u001b[38;5;241;43m*\u001b[39;49m\u001b[43margs\u001b[49m\u001b[43m,\u001b[49m\u001b[43m \u001b[49m\u001b[38;5;241;43m*\u001b[39;49m\u001b[38;5;241;43m*\u001b[39;49m\u001b[43mkwargs\u001b[49m\u001b[43m)\u001b[49m\n",
      "File \u001b[0;32m~/GameTrade/work/charge_back_predict/env/lib/python3.10/site-packages/matplotlib/animation.py:875\u001b[0m, in \u001b[0;36mAnimation.__init__\u001b[0;34m(self, fig, event_source, blit)\u001b[0m\n\u001b[1;32m    872\u001b[0m \u001b[38;5;28mself\u001b[39m\u001b[38;5;241m.\u001b[39m_close_id \u001b[38;5;241m=\u001b[39m \u001b[38;5;28mself\u001b[39m\u001b[38;5;241m.\u001b[39m_fig\u001b[38;5;241m.\u001b[39mcanvas\u001b[38;5;241m.\u001b[39mmpl_connect(\u001b[38;5;124m'\u001b[39m\u001b[38;5;124mclose_event\u001b[39m\u001b[38;5;124m'\u001b[39m,\n\u001b[1;32m    873\u001b[0m                                               \u001b[38;5;28mself\u001b[39m\u001b[38;5;241m.\u001b[39m_stop)\n\u001b[1;32m    874\u001b[0m \u001b[38;5;28;01mif\u001b[39;00m \u001b[38;5;28mself\u001b[39m\u001b[38;5;241m.\u001b[39m_blit:\n\u001b[0;32m--> 875\u001b[0m     \u001b[38;5;28;43mself\u001b[39;49m\u001b[38;5;241;43m.\u001b[39;49m\u001b[43m_setup_blit\u001b[49m\u001b[43m(\u001b[49m\u001b[43m)\u001b[49m\n",
      "File \u001b[0;32m~/GameTrade/work/charge_back_predict/env/lib/python3.10/site-packages/matplotlib/animation.py:1187\u001b[0m, in \u001b[0;36mAnimation._setup_blit\u001b[0;34m(self)\u001b[0m\n\u001b[1;32m   1185\u001b[0m \u001b[38;5;28mself\u001b[39m\u001b[38;5;241m.\u001b[39m_drawn_artists \u001b[38;5;241m=\u001b[39m []\n\u001b[1;32m   1186\u001b[0m \u001b[38;5;66;03m# _post_draw needs to be called first to initialize the renderer\u001b[39;00m\n\u001b[0;32m-> 1187\u001b[0m \u001b[38;5;28;43mself\u001b[39;49m\u001b[38;5;241;43m.\u001b[39;49m\u001b[43m_post_draw\u001b[49m\u001b[43m(\u001b[49m\u001b[38;5;28;43;01mNone\u001b[39;49;00m\u001b[43m,\u001b[49m\u001b[43m \u001b[49m\u001b[38;5;28;43mself\u001b[39;49m\u001b[38;5;241;43m.\u001b[39;49m\u001b[43m_blit\u001b[49m\u001b[43m)\u001b[49m\n\u001b[1;32m   1188\u001b[0m \u001b[38;5;66;03m# Then we need to clear the Frame for the initial draw\u001b[39;00m\n\u001b[1;32m   1189\u001b[0m \u001b[38;5;66;03m# This is typically handled in _on_resize because QT and Tk\u001b[39;00m\n\u001b[1;32m   1190\u001b[0m \u001b[38;5;66;03m# emit a resize event on launch, but the macosx backend does not,\u001b[39;00m\n\u001b[1;32m   1191\u001b[0m \u001b[38;5;66;03m# thus we force it here for everyone for consistency\u001b[39;00m\n\u001b[1;32m   1192\u001b[0m \u001b[38;5;28mself\u001b[39m\u001b[38;5;241m.\u001b[39m_init_draw()\n",
      "File \u001b[0;32m~/GameTrade/work/charge_back_predict/env/lib/python3.10/site-packages/matplotlib/animation.py:1142\u001b[0m, in \u001b[0;36mAnimation._post_draw\u001b[0;34m(self, framedata, blit)\u001b[0m\n\u001b[1;32m   1140\u001b[0m     \u001b[38;5;28mself\u001b[39m\u001b[38;5;241m.\u001b[39m_blit_draw(\u001b[38;5;28mself\u001b[39m\u001b[38;5;241m.\u001b[39m_drawn_artists)\n\u001b[1;32m   1141\u001b[0m \u001b[38;5;28;01melse\u001b[39;00m:\n\u001b[0;32m-> 1142\u001b[0m     \u001b[38;5;28;43mself\u001b[39;49m\u001b[38;5;241;43m.\u001b[39;49m\u001b[43m_fig\u001b[49m\u001b[38;5;241;43m.\u001b[39;49m\u001b[43mcanvas\u001b[49m\u001b[38;5;241;43m.\u001b[39;49m\u001b[43mdraw_idle\u001b[49m\u001b[43m(\u001b[49m\u001b[43m)\u001b[49m\n",
      "File \u001b[0;32m~/GameTrade/work/charge_back_predict/env/lib/python3.10/site-packages/matplotlib/backend_bases.py:2054\u001b[0m, in \u001b[0;36mFigureCanvasBase.draw_idle\u001b[0;34m(self, *args, **kwargs)\u001b[0m\n\u001b[1;32m   2052\u001b[0m \u001b[38;5;28;01mif\u001b[39;00m \u001b[38;5;129;01mnot\u001b[39;00m \u001b[38;5;28mself\u001b[39m\u001b[38;5;241m.\u001b[39m_is_idle_drawing:\n\u001b[1;32m   2053\u001b[0m     \u001b[38;5;28;01mwith\u001b[39;00m \u001b[38;5;28mself\u001b[39m\u001b[38;5;241m.\u001b[39m_idle_draw_cntx():\n\u001b[0;32m-> 2054\u001b[0m         \u001b[38;5;28;43mself\u001b[39;49m\u001b[38;5;241;43m.\u001b[39;49m\u001b[43mdraw\u001b[49m\u001b[43m(\u001b[49m\u001b[38;5;241;43m*\u001b[39;49m\u001b[43margs\u001b[49m\u001b[43m,\u001b[49m\u001b[43m \u001b[49m\u001b[38;5;241;43m*\u001b[39;49m\u001b[38;5;241;43m*\u001b[39;49m\u001b[43mkwargs\u001b[49m\u001b[43m)\u001b[49m\n",
      "File \u001b[0;32m~/GameTrade/work/charge_back_predict/env/lib/python3.10/site-packages/matplotlib/backends/backend_agg.py:405\u001b[0m, in \u001b[0;36mFigureCanvasAgg.draw\u001b[0;34m(self)\u001b[0m\n\u001b[1;32m    401\u001b[0m \u001b[38;5;66;03m# Acquire a lock on the shared font cache.\u001b[39;00m\n\u001b[1;32m    402\u001b[0m \u001b[38;5;28;01mwith\u001b[39;00m RendererAgg\u001b[38;5;241m.\u001b[39mlock, \\\n\u001b[1;32m    403\u001b[0m      (\u001b[38;5;28mself\u001b[39m\u001b[38;5;241m.\u001b[39mtoolbar\u001b[38;5;241m.\u001b[39m_wait_cursor_for_draw_cm() \u001b[38;5;28;01mif\u001b[39;00m \u001b[38;5;28mself\u001b[39m\u001b[38;5;241m.\u001b[39mtoolbar\n\u001b[1;32m    404\u001b[0m       \u001b[38;5;28;01melse\u001b[39;00m nullcontext()):\n\u001b[0;32m--> 405\u001b[0m     \u001b[38;5;28;43mself\u001b[39;49m\u001b[38;5;241;43m.\u001b[39;49m\u001b[43mfigure\u001b[49m\u001b[38;5;241;43m.\u001b[39;49m\u001b[43mdraw\u001b[49m\u001b[43m(\u001b[49m\u001b[38;5;28;43mself\u001b[39;49m\u001b[38;5;241;43m.\u001b[39;49m\u001b[43mrenderer\u001b[49m\u001b[43m)\u001b[49m\n\u001b[1;32m    406\u001b[0m     \u001b[38;5;66;03m# A GUI class may be need to update a window using this draw, so\u001b[39;00m\n\u001b[1;32m    407\u001b[0m     \u001b[38;5;66;03m# don't forget to call the superclass.\u001b[39;00m\n\u001b[1;32m    408\u001b[0m     \u001b[38;5;28msuper\u001b[39m()\u001b[38;5;241m.\u001b[39mdraw()\n",
      "File \u001b[0;32m~/GameTrade/work/charge_back_predict/env/lib/python3.10/site-packages/matplotlib/artist.py:74\u001b[0m, in \u001b[0;36m_finalize_rasterization.<locals>.draw_wrapper\u001b[0;34m(artist, renderer, *args, **kwargs)\u001b[0m\n\u001b[1;32m     72\u001b[0m \u001b[38;5;129m@wraps\u001b[39m(draw)\n\u001b[1;32m     73\u001b[0m \u001b[38;5;28;01mdef\u001b[39;00m \u001b[38;5;21mdraw_wrapper\u001b[39m(artist, renderer, \u001b[38;5;241m*\u001b[39margs, \u001b[38;5;241m*\u001b[39m\u001b[38;5;241m*\u001b[39mkwargs):\n\u001b[0;32m---> 74\u001b[0m     result \u001b[38;5;241m=\u001b[39m \u001b[43mdraw\u001b[49m\u001b[43m(\u001b[49m\u001b[43martist\u001b[49m\u001b[43m,\u001b[49m\u001b[43m \u001b[49m\u001b[43mrenderer\u001b[49m\u001b[43m,\u001b[49m\u001b[43m \u001b[49m\u001b[38;5;241;43m*\u001b[39;49m\u001b[43margs\u001b[49m\u001b[43m,\u001b[49m\u001b[43m \u001b[49m\u001b[38;5;241;43m*\u001b[39;49m\u001b[38;5;241;43m*\u001b[39;49m\u001b[43mkwargs\u001b[49m\u001b[43m)\u001b[49m\n\u001b[1;32m     75\u001b[0m     \u001b[38;5;28;01mif\u001b[39;00m renderer\u001b[38;5;241m.\u001b[39m_rasterizing:\n\u001b[1;32m     76\u001b[0m         renderer\u001b[38;5;241m.\u001b[39mstop_rasterizing()\n",
      "File \u001b[0;32m~/GameTrade/work/charge_back_predict/env/lib/python3.10/site-packages/matplotlib/artist.py:51\u001b[0m, in \u001b[0;36mallow_rasterization.<locals>.draw_wrapper\u001b[0;34m(artist, renderer)\u001b[0m\n\u001b[1;32m     48\u001b[0m     \u001b[38;5;28;01mif\u001b[39;00m artist\u001b[38;5;241m.\u001b[39mget_agg_filter() \u001b[38;5;129;01mis\u001b[39;00m \u001b[38;5;129;01mnot\u001b[39;00m \u001b[38;5;28;01mNone\u001b[39;00m:\n\u001b[1;32m     49\u001b[0m         renderer\u001b[38;5;241m.\u001b[39mstart_filter()\n\u001b[0;32m---> 51\u001b[0m     \u001b[38;5;28;01mreturn\u001b[39;00m \u001b[43mdraw\u001b[49m\u001b[43m(\u001b[49m\u001b[43martist\u001b[49m\u001b[43m,\u001b[49m\u001b[43m \u001b[49m\u001b[43mrenderer\u001b[49m\u001b[43m)\u001b[49m\n\u001b[1;32m     52\u001b[0m \u001b[38;5;28;01mfinally\u001b[39;00m:\n\u001b[1;32m     53\u001b[0m     \u001b[38;5;28;01mif\u001b[39;00m artist\u001b[38;5;241m.\u001b[39mget_agg_filter() \u001b[38;5;129;01mis\u001b[39;00m \u001b[38;5;129;01mnot\u001b[39;00m \u001b[38;5;28;01mNone\u001b[39;00m:\n",
      "File \u001b[0;32m~/GameTrade/work/charge_back_predict/env/lib/python3.10/site-packages/matplotlib/figure.py:3081\u001b[0m, in \u001b[0;36mFigure.draw\u001b[0;34m(self, renderer)\u001b[0m\n\u001b[1;32m   3078\u001b[0m \u001b[38;5;28;01mfinally\u001b[39;00m:\n\u001b[1;32m   3079\u001b[0m     \u001b[38;5;28mself\u001b[39m\u001b[38;5;241m.\u001b[39mstale \u001b[38;5;241m=\u001b[39m \u001b[38;5;28;01mFalse\u001b[39;00m\n\u001b[0;32m-> 3081\u001b[0m \u001b[43mDrawEvent\u001b[49m\u001b[43m(\u001b[49m\u001b[38;5;124;43m\"\u001b[39;49m\u001b[38;5;124;43mdraw_event\u001b[39;49m\u001b[38;5;124;43m\"\u001b[39;49m\u001b[43m,\u001b[49m\u001b[43m \u001b[49m\u001b[38;5;28;43mself\u001b[39;49m\u001b[38;5;241;43m.\u001b[39;49m\u001b[43mcanvas\u001b[49m\u001b[43m,\u001b[49m\u001b[43m \u001b[49m\u001b[43mrenderer\u001b[49m\u001b[43m)\u001b[49m\u001b[38;5;241;43m.\u001b[39;49m\u001b[43m_process\u001b[49m\u001b[43m(\u001b[49m\u001b[43m)\u001b[49m\n",
      "File \u001b[0;32m~/GameTrade/work/charge_back_predict/env/lib/python3.10/site-packages/matplotlib/backend_bases.py:1230\u001b[0m, in \u001b[0;36mEvent._process\u001b[0;34m(self)\u001b[0m\n\u001b[1;32m   1228\u001b[0m \u001b[38;5;28;01mdef\u001b[39;00m \u001b[38;5;21m_process\u001b[39m(\u001b[38;5;28mself\u001b[39m):\n\u001b[1;32m   1229\u001b[0m     \u001b[38;5;124;03m\"\"\"Generate an event with name ``self.name`` on ``self.canvas``.\"\"\"\u001b[39;00m\n\u001b[0;32m-> 1230\u001b[0m     \u001b[38;5;28;43mself\u001b[39;49m\u001b[38;5;241;43m.\u001b[39;49m\u001b[43mcanvas\u001b[49m\u001b[38;5;241;43m.\u001b[39;49m\u001b[43mcallbacks\u001b[49m\u001b[38;5;241;43m.\u001b[39;49m\u001b[43mprocess\u001b[49m\u001b[43m(\u001b[49m\u001b[38;5;28;43mself\u001b[39;49m\u001b[38;5;241;43m.\u001b[39;49m\u001b[43mname\u001b[49m\u001b[43m,\u001b[49m\u001b[43m \u001b[49m\u001b[38;5;28;43mself\u001b[39;49m\u001b[43m)\u001b[49m\n",
      "File \u001b[0;32m~/GameTrade/work/charge_back_predict/env/lib/python3.10/site-packages/matplotlib/cbook/__init__.py:312\u001b[0m, in \u001b[0;36mCallbackRegistry.process\u001b[0;34m(self, s, *args, **kwargs)\u001b[0m\n\u001b[1;32m    310\u001b[0m \u001b[38;5;28;01mexcept\u001b[39;00m \u001b[38;5;167;01mException\u001b[39;00m \u001b[38;5;28;01mas\u001b[39;00m exc:\n\u001b[1;32m    311\u001b[0m     \u001b[38;5;28;01mif\u001b[39;00m \u001b[38;5;28mself\u001b[39m\u001b[38;5;241m.\u001b[39mexception_handler \u001b[38;5;129;01mis\u001b[39;00m \u001b[38;5;129;01mnot\u001b[39;00m \u001b[38;5;28;01mNone\u001b[39;00m:\n\u001b[0;32m--> 312\u001b[0m         \u001b[38;5;28;43mself\u001b[39;49m\u001b[38;5;241;43m.\u001b[39;49m\u001b[43mexception_handler\u001b[49m\u001b[43m(\u001b[49m\u001b[43mexc\u001b[49m\u001b[43m)\u001b[49m\n\u001b[1;32m    313\u001b[0m     \u001b[38;5;28;01melse\u001b[39;00m:\n\u001b[1;32m    314\u001b[0m         \u001b[38;5;28;01mraise\u001b[39;00m\n",
      "File \u001b[0;32m~/GameTrade/work/charge_back_predict/env/lib/python3.10/site-packages/matplotlib/cbook/__init__.py:96\u001b[0m, in \u001b[0;36m_exception_printer\u001b[0;34m(exc)\u001b[0m\n\u001b[1;32m     94\u001b[0m \u001b[38;5;28;01mdef\u001b[39;00m \u001b[38;5;21m_exception_printer\u001b[39m(exc):\n\u001b[1;32m     95\u001b[0m     \u001b[38;5;28;01mif\u001b[39;00m _get_running_interactive_framework() \u001b[38;5;129;01min\u001b[39;00m [\u001b[38;5;124m\"\u001b[39m\u001b[38;5;124mheadless\u001b[39m\u001b[38;5;124m\"\u001b[39m, \u001b[38;5;28;01mNone\u001b[39;00m]:\n\u001b[0;32m---> 96\u001b[0m         \u001b[38;5;28;01mraise\u001b[39;00m exc\n\u001b[1;32m     97\u001b[0m     \u001b[38;5;28;01melse\u001b[39;00m:\n\u001b[1;32m     98\u001b[0m         traceback\u001b[38;5;241m.\u001b[39mprint_exc()\n",
      "File \u001b[0;32m~/GameTrade/work/charge_back_predict/env/lib/python3.10/site-packages/matplotlib/cbook/__init__.py:307\u001b[0m, in \u001b[0;36mCallbackRegistry.process\u001b[0;34m(self, s, *args, **kwargs)\u001b[0m\n\u001b[1;32m    305\u001b[0m \u001b[38;5;28;01mif\u001b[39;00m func \u001b[38;5;129;01mis\u001b[39;00m \u001b[38;5;129;01mnot\u001b[39;00m \u001b[38;5;28;01mNone\u001b[39;00m:\n\u001b[1;32m    306\u001b[0m     \u001b[38;5;28;01mtry\u001b[39;00m:\n\u001b[0;32m--> 307\u001b[0m         \u001b[43mfunc\u001b[49m\u001b[43m(\u001b[49m\u001b[38;5;241;43m*\u001b[39;49m\u001b[43margs\u001b[49m\u001b[43m,\u001b[49m\u001b[43m \u001b[49m\u001b[38;5;241;43m*\u001b[39;49m\u001b[38;5;241;43m*\u001b[39;49m\u001b[43mkwargs\u001b[49m\u001b[43m)\u001b[49m\n\u001b[1;32m    308\u001b[0m     \u001b[38;5;66;03m# this does not capture KeyboardInterrupt, SystemExit,\u001b[39;00m\n\u001b[1;32m    309\u001b[0m     \u001b[38;5;66;03m# and GeneratorExit\u001b[39;00m\n\u001b[1;32m    310\u001b[0m     \u001b[38;5;28;01mexcept\u001b[39;00m \u001b[38;5;167;01mException\u001b[39;00m \u001b[38;5;28;01mas\u001b[39;00m exc:\n",
      "File \u001b[0;32m~/GameTrade/work/charge_back_predict/env/lib/python3.10/site-packages/matplotlib/animation.py:899\u001b[0m, in \u001b[0;36mAnimation._start\u001b[0;34m(self, *args)\u001b[0m\n\u001b[1;32m    896\u001b[0m \u001b[38;5;28mself\u001b[39m\u001b[38;5;241m.\u001b[39m_fig\u001b[38;5;241m.\u001b[39mcanvas\u001b[38;5;241m.\u001b[39mmpl_disconnect(\u001b[38;5;28mself\u001b[39m\u001b[38;5;241m.\u001b[39m_first_draw_id)\n\u001b[1;32m    898\u001b[0m \u001b[38;5;66;03m# Now do any initial draw\u001b[39;00m\n\u001b[0;32m--> 899\u001b[0m \u001b[38;5;28;43mself\u001b[39;49m\u001b[38;5;241;43m.\u001b[39;49m\u001b[43m_init_draw\u001b[49m\u001b[43m(\u001b[49m\u001b[43m)\u001b[49m\n\u001b[1;32m    901\u001b[0m \u001b[38;5;66;03m# Add our callback for stepping the animation and\u001b[39;00m\n\u001b[1;32m    902\u001b[0m \u001b[38;5;66;03m# actually start the event_source.\u001b[39;00m\n\u001b[1;32m    903\u001b[0m \u001b[38;5;28mself\u001b[39m\u001b[38;5;241m.\u001b[39mevent_source\u001b[38;5;241m.\u001b[39madd_callback(\u001b[38;5;28mself\u001b[39m\u001b[38;5;241m.\u001b[39m_step)\n",
      "File \u001b[0;32m~/GameTrade/work/charge_back_predict/env/lib/python3.10/site-packages/matplotlib/animation.py:1721\u001b[0m, in \u001b[0;36mFuncAnimation._init_draw\u001b[0;34m(self)\u001b[0m\n\u001b[1;32m   1713\u001b[0m         warnings\u001b[38;5;241m.\u001b[39mwarn(\n\u001b[1;32m   1714\u001b[0m             \u001b[38;5;124m\"\u001b[39m\u001b[38;5;124mCan not start iterating the frames for the initial draw. \u001b[39m\u001b[38;5;124m\"\u001b[39m\n\u001b[1;32m   1715\u001b[0m             \u001b[38;5;124m\"\u001b[39m\u001b[38;5;124mThis can be caused by passing in a 0 length sequence \u001b[39m\u001b[38;5;124m\"\u001b[39m\n\u001b[0;32m   (...)\u001b[0m\n\u001b[1;32m   1718\u001b[0m             \u001b[38;5;124m\"\u001b[39m\u001b[38;5;124mit may be exhausted due to a previous display or save.\u001b[39m\u001b[38;5;124m\"\u001b[39m\n\u001b[1;32m   1719\u001b[0m         )\n\u001b[1;32m   1720\u001b[0m         \u001b[38;5;28;01mreturn\u001b[39;00m\n\u001b[0;32m-> 1721\u001b[0m     \u001b[38;5;28;43mself\u001b[39;49m\u001b[38;5;241;43m.\u001b[39;49m\u001b[43m_draw_frame\u001b[49m\u001b[43m(\u001b[49m\u001b[43mframe_data\u001b[49m\u001b[43m)\u001b[49m\n\u001b[1;32m   1722\u001b[0m \u001b[38;5;28;01melse\u001b[39;00m:\n\u001b[1;32m   1723\u001b[0m     \u001b[38;5;28mself\u001b[39m\u001b[38;5;241m.\u001b[39m_drawn_artists \u001b[38;5;241m=\u001b[39m \u001b[38;5;28mself\u001b[39m\u001b[38;5;241m.\u001b[39m_init_func()\n",
      "File \u001b[0;32m~/GameTrade/work/charge_back_predict/env/lib/python3.10/site-packages/matplotlib/animation.py:1743\u001b[0m, in \u001b[0;36mFuncAnimation._draw_frame\u001b[0;34m(self, framedata)\u001b[0m\n\u001b[1;32m   1739\u001b[0m \u001b[38;5;28mself\u001b[39m\u001b[38;5;241m.\u001b[39m_save_seq \u001b[38;5;241m=\u001b[39m \u001b[38;5;28mself\u001b[39m\u001b[38;5;241m.\u001b[39m_save_seq[\u001b[38;5;241m-\u001b[39m\u001b[38;5;28mself\u001b[39m\u001b[38;5;241m.\u001b[39msave_count:]\n\u001b[1;32m   1741\u001b[0m \u001b[38;5;66;03m# Call the func with framedata and args. If blitting is desired,\u001b[39;00m\n\u001b[1;32m   1742\u001b[0m \u001b[38;5;66;03m# func needs to return a sequence of any artists that were modified.\u001b[39;00m\n\u001b[0;32m-> 1743\u001b[0m \u001b[38;5;28mself\u001b[39m\u001b[38;5;241m.\u001b[39m_drawn_artists \u001b[38;5;241m=\u001b[39m \u001b[38;5;28;43mself\u001b[39;49m\u001b[38;5;241;43m.\u001b[39;49m\u001b[43m_func\u001b[49m\u001b[43m(\u001b[49m\u001b[43mframedata\u001b[49m\u001b[43m,\u001b[49m\u001b[43m \u001b[49m\u001b[38;5;241;43m*\u001b[39;49m\u001b[38;5;28;43mself\u001b[39;49m\u001b[38;5;241;43m.\u001b[39;49m\u001b[43m_args\u001b[49m\u001b[43m)\u001b[49m\n\u001b[1;32m   1745\u001b[0m \u001b[38;5;28;01mif\u001b[39;00m \u001b[38;5;28mself\u001b[39m\u001b[38;5;241m.\u001b[39m_blit:\n\u001b[1;32m   1747\u001b[0m     err \u001b[38;5;241m=\u001b[39m \u001b[38;5;167;01mRuntimeError\u001b[39;00m(\u001b[38;5;124m'\u001b[39m\u001b[38;5;124mThe animation function must return a sequence \u001b[39m\u001b[38;5;124m'\u001b[39m\n\u001b[1;32m   1748\u001b[0m                        \u001b[38;5;124m'\u001b[39m\u001b[38;5;124mof Artist objects.\u001b[39m\u001b[38;5;124m'\u001b[39m)\n",
      "Cell \u001b[0;32mIn [34], line 16\u001b[0m, in \u001b[0;36mupdate\u001b[0;34m(num)\u001b[0m\n\u001b[1;32m     14\u001b[0m triang \u001b[38;5;241m=\u001b[39m tri\u001b[38;5;241m.\u001b[39mTriangulation(x[:\u001b[38;5;241m3\u001b[39m\u001b[38;5;241m+\u001b[39mnum], y[:\u001b[38;5;241m3\u001b[39m\u001b[38;5;241m+\u001b[39mnum])\n\u001b[1;32m     15\u001b[0m ax\u001b[38;5;241m.\u001b[39mtriplot(triang, \u001b[38;5;124m'\u001b[39m\u001b[38;5;124mgo-\u001b[39m\u001b[38;5;124m'\u001b[39m, lw\u001b[38;5;241m=\u001b[39m\u001b[38;5;241m1\u001b[39m, c\u001b[38;5;241m=\u001b[39m\u001b[38;5;124m'\u001b[39m\u001b[38;5;124mblue\u001b[39m\u001b[38;5;124m'\u001b[39m)\n\u001b[0;32m---> 16\u001b[0m \u001b[43max\u001b[49m\u001b[38;5;241;43m.\u001b[39;49m\u001b[43mtripcolors\u001b[49m(triang, facecolors\u001b[38;5;241m=\u001b[39mx[:\u001b[38;5;241m3\u001b[39m\u001b[38;5;241m+\u001b[39mnum][:num])\n\u001b[1;32m     17\u001b[0m \u001b[38;5;28;01mreturn\u001b[39;00m fig,\n",
      "\u001b[0;31mAttributeError\u001b[0m: 'AxesSubplot' object has no attribute 'tripcolors'"
     ]
    },
    {
     "data": {
      "image/png": "[encoded data removed]",
      "text/plain": [
       "<Figure size 500x500 with 1 Axes>"
      ]
     },
     "metadata": {},
     "output_type": "display_data"
    }
   ],
   "source": [
    "%matplotlib inline\n",
    "import matplotlib.pyplot as plt\n",
    "import matplotlib.tri as tri\n",
    "import numpy as np\n",
    "import matplotlib.animation as animation\n",
    "from IPython.display import HTML\n",
    "x = np.random.rand(22)\n",
    "y = np.random.rand(22)\n",
    "fig, ax = plt.subplots(figsize=(5,5))\n",
    "def update(num):\n",
    "    ax.cla()\n",
    "    ax.set_aspect('equal')\n",
    "    ax.set(xlim=(0,1),ylim=(0,1))\n",
    "    triang = tri.Triangulation(x[:3+num], y[:3+num])\n",
    "    ax.triplot(triang, 'go-', lw=1, c='blue')\n",
    "    ax.tripcolors(triang, facecolors=x[:3+num][:num])\n",
    "    return fig,\n",
    "ani = animation.FuncAnimation(fig, update, 10,interval=600, blit=True)\n",
    "ani.save('triplot_anim25.gif', writer=\"ffmpeg\",dpi=100)\n",
    "HTML(ani.to_html5_video())"
   ]
  },
  {
   "cell_type": "code",
   "execution_count": 9,
   "metadata": {},
   "outputs": [
    {
     "data": {
      "text/plain": [
       "<matplotlib.collections.PolyCollection at 0x11dfd6680>"
      ]
     },
     "execution_count": 9,
     "metadata": {},
     "output_type": "execute_result"
    },
    {
     "data": {
      "image/png": "[encoded data removed]",
      "text/plain": [
       "<Figure size 1000x1000 with 1 Axes>"
      ]
     },
     "metadata": {},
     "output_type": "display_data"
    }
   ],
   "source": [
    "import matplotlib.tri as tri\n",
    "import numpy as np\n",
    "import matplotlib.pyplot as plt\n",
    "x = np.array([1,2,4,5, 2])\n",
    "y = np.array([4,6,2,10, 9])\n",
    "fig, ax = plt.subplots(figsize=(10,10))\n",
    "triang = tri.Triangulation(x, y)\n",
    "ax.triplot(triang,'bo-', lw=1)\n",
    "ax.scatter(x,y, c='black',s=200)\n",
    "ax.tripcolor(triang, facecolors=[100, 100, 100, 100], alpha=0.15)"
   ]
  },
  {
   "cell_type": "code",
   "execution_count": 123,
   "metadata": {},
   "outputs": [
    {
     "data": {
      "text/plain": [
       "array([[1, 2]])"
      ]
     },
     "execution_count": 123,
     "metadata": {},
     "output_type": "execute_result"
    }
   ],
   "source": []
  },
  {
   "cell_type": "code",
   "execution_count": 148,
   "metadata": {},
   "outputs": [
    {
     "name": "stderr",
     "output_type": "stream",
     "text": [
      "MovieWriter ffmpeg unavailable; using Pillow instead.\n",
      "/var/folders/0g/4t0p31rx0pz9z6c7zc57lcyw0000gn/T/ipykernel_35038/3019788058.py:18: UserWarning: color is redundantly defined by the 'color' keyword argument and the fmt string \"go\" (-> color='g'). The keyword argument will take precedence.\n",
      "  ax.plot(vor.points[:3+i,0],vor.points[:3+i,1],\"go\",ms=5,alpha=1, color='blueviolet')\n"
     ]
    },
    {
     "ename": "RuntimeError",
     "evalue": "Requested MovieWriter (ffmpeg) not available",
     "output_type": "error",
     "traceback": [
      "\u001b[0;31m---------------------------------------------------------------------------\u001b[0m",
      "\u001b[0;31mRuntimeError\u001b[0m                              Traceback (most recent call last)",
      "Cell \u001b[0;32mIn [148], line 25\u001b[0m\n\u001b[1;32m     23\u001b[0m ani \u001b[38;5;241m=\u001b[39m animation\u001b[38;5;241m.\u001b[39mFuncAnimation(fig, update, \u001b[38;5;241m7\u001b[39m,interval\u001b[38;5;241m=\u001b[39m\u001b[38;5;241m800\u001b[39m)\n\u001b[1;32m     24\u001b[0m ani\u001b[38;5;241m.\u001b[39msave(\u001b[38;5;124m'\u001b[39m\u001b[38;5;124mvor_anim1.gif\u001b[39m\u001b[38;5;124m'\u001b[39m, writer\u001b[38;5;241m=\u001b[39m\u001b[38;5;124m\"\u001b[39m\u001b[38;5;124mffmpeg\u001b[39m\u001b[38;5;124m\"\u001b[39m,dpi\u001b[38;5;241m=\u001b[39m\u001b[38;5;241m150\u001b[39m)\n\u001b[0;32m---> 25\u001b[0m HTML(\u001b[43mani\u001b[49m\u001b[38;5;241;43m.\u001b[39;49m\u001b[43mto_html5_video\u001b[49m\u001b[43m(\u001b[49m\u001b[43m)\u001b[49m)\n",
      "File \u001b[0;32m~/GameTrade/work/charge_back_predict/env/lib/python3.10/site-packages/matplotlib/animation.py:1262\u001b[0m, in \u001b[0;36mAnimation.to_html5_video\u001b[0;34m(self, embed_limit)\u001b[0m\n\u001b[1;32m   1259\u001b[0m path \u001b[38;5;241m=\u001b[39m Path(tmpdir, \u001b[38;5;124m\"\u001b[39m\u001b[38;5;124mtemp.m4v\u001b[39m\u001b[38;5;124m\"\u001b[39m)\n\u001b[1;32m   1260\u001b[0m \u001b[38;5;66;03m# We create a writer manually so that we can get the\u001b[39;00m\n\u001b[1;32m   1261\u001b[0m \u001b[38;5;66;03m# appropriate size for the tag\u001b[39;00m\n\u001b[0;32m-> 1262\u001b[0m Writer \u001b[38;5;241m=\u001b[39m \u001b[43mwriters\u001b[49m\u001b[43m[\u001b[49m\u001b[43mmpl\u001b[49m\u001b[38;5;241;43m.\u001b[39;49m\u001b[43mrcParams\u001b[49m\u001b[43m[\u001b[49m\u001b[38;5;124;43m'\u001b[39;49m\u001b[38;5;124;43manimation.writer\u001b[39;49m\u001b[38;5;124;43m'\u001b[39;49m\u001b[43m]\u001b[49m\u001b[43m]\u001b[49m\n\u001b[1;32m   1263\u001b[0m writer \u001b[38;5;241m=\u001b[39m Writer(codec\u001b[38;5;241m=\u001b[39m\u001b[38;5;124m'\u001b[39m\u001b[38;5;124mh264\u001b[39m\u001b[38;5;124m'\u001b[39m,\n\u001b[1;32m   1264\u001b[0m                 bitrate\u001b[38;5;241m=\u001b[39mmpl\u001b[38;5;241m.\u001b[39mrcParams[\u001b[38;5;124m'\u001b[39m\u001b[38;5;124manimation.bitrate\u001b[39m\u001b[38;5;124m'\u001b[39m],\n\u001b[1;32m   1265\u001b[0m                 fps\u001b[38;5;241m=\u001b[39m\u001b[38;5;241m1000.\u001b[39m \u001b[38;5;241m/\u001b[39m \u001b[38;5;28mself\u001b[39m\u001b[38;5;241m.\u001b[39m_interval)\n\u001b[1;32m   1266\u001b[0m \u001b[38;5;28mself\u001b[39m\u001b[38;5;241m.\u001b[39msave(\u001b[38;5;28mstr\u001b[39m(path), writer\u001b[38;5;241m=\u001b[39mwriter)\n",
      "File \u001b[0;32m~/GameTrade/work/charge_back_predict/env/lib/python3.10/site-packages/matplotlib/animation.py:148\u001b[0m, in \u001b[0;36mMovieWriterRegistry.__getitem__\u001b[0;34m(self, name)\u001b[0m\n\u001b[1;32m    146\u001b[0m \u001b[38;5;28;01mif\u001b[39;00m \u001b[38;5;28mself\u001b[39m\u001b[38;5;241m.\u001b[39mis_available(name):\n\u001b[1;32m    147\u001b[0m     \u001b[38;5;28;01mreturn\u001b[39;00m \u001b[38;5;28mself\u001b[39m\u001b[38;5;241m.\u001b[39m_registered[name]\n\u001b[0;32m--> 148\u001b[0m \u001b[38;5;28;01mraise\u001b[39;00m \u001b[38;5;167;01mRuntimeError\u001b[39;00m(\u001b[38;5;124mf\u001b[39m\u001b[38;5;124m\"\u001b[39m\u001b[38;5;124mRequested MovieWriter (\u001b[39m\u001b[38;5;132;01m{\u001b[39;00mname\u001b[38;5;132;01m}\u001b[39;00m\u001b[38;5;124m) not available\u001b[39m\u001b[38;5;124m\"\u001b[39m)\n",
      "\u001b[0;31mRuntimeError\u001b[0m: Requested MovieWriter (ffmpeg) not available"
     ]
    },
    {
     "data": {
      "image/png": "[encoded data removed]",
      "text/plain": [
       "<Figure size 800x600 with 1 Axes>"
      ]
     },
     "metadata": {},
     "output_type": "display_data"
    }
   ],
   "source": [
    "import matplotlib.pyplot as plt\n",
    "import numpy as np\n",
    "from scipy.spatial import Voronoi, voronoi_plot_2d\n",
    "import matplotlib.animation as animation\n",
    "from IPython.display import HTML\n",
    "import matplotlib.ticker as ticker\n",
    "%matplotlib inline\n",
    "fig, ax = plt.subplots(figsize=(8,6))\n",
    "points = np.random.rand(100,2) #random\n",
    "\n",
    "def update(i):\n",
    "    ax.cla()\n",
    "    ax.xaxis.set_major_locator(ticker.NullLocator())\n",
    "    ax.yaxis.set_major_locator(ticker.NullLocator())\n",
    "    \n",
    "    vor = Voronoi(points[:3+i,:])\n",
    "    voronoi_plot_2d(vor,line_colors='mediumturquoise',ax=ax,line_width=2,show_vertices=False,show_points=False)\n",
    "    ax.plot(vor.points[:3+i,0],vor.points[:3+i,1],\"go\",ms=5,alpha=1, color='blueviolet')\n",
    "    ax.set(xlim=(-0.2,1.2), ylim=(-0.2,1.2))\n",
    "    \n",
    "    return fig,\n",
    "\n",
    "ani = animation.FuncAnimation(fig, update, 7,interval=800)\n",
    "ani.save('vor_anim1.gif', writer=\"ffmpeg\",dpi=150)\n",
    "HTML(ani.to_html5_video())"
   ]
  },
  {
   "cell_type": "code",
   "execution_count": null,
   "metadata": {},
   "outputs": [],
   "source": []
  }
 ],
 "metadata": {
  "kernelspec": {
   "display_name": "jupyter-myenv",
   "language": "python",
   "name": "jupyter-myenv"
  },
  "language_info": {
   "codemirror_mode": {
    "name": "ipython",
    "version": 3
   },
   "file_extension": ".py",
   "mimetype": "text/x-python",
   "name": "python",
   "nbconvert_exporter": "python",
   "pygments_lexer": "ipython3",
   "version": "3.10.8"
  }
 },
 "nbformat": 4,
 "nbformat_minor": 2
}
